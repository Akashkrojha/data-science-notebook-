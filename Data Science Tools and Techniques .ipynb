{
  "metadata": {
    "kernelspec": {
      "name": "python",
      "display_name": "Python (Pyodide)",
      "language": "python"
    },
    "language_info": {
      "name": ""
    }
  },
  "nbformat_minor": 4,
  "nbformat": 4,
  "cells": [
    {
      "cell_type": "markdown",
      "source": "## Introduction\nThis notebook provides an overview of some essential tools and techniques used in data science. We will explore different languages, libraries, and tools, and demonstrate some basic arithmetic operations.\n",
      "metadata": {}
    },
    {
      "cell_type": "markdown",
      "source": "## Data Science Languages\n- Python\n- R\n- SQL\n- Julia\n- Scala\n",
      "metadata": {}
    },
    {
      "cell_type": "markdown",
      "source": "## Data Science Libraries\n- NumPy\n- Pandas\n- Matplotlib\n- Scikit-learn\n- TensorFlow\n- Keras\n",
      "metadata": {}
    },
    {
      "cell_type": "markdown",
      "source": "## Data Science Tools\n\n| Tool           | Description                       |\n|----------------|-----------------------------------|\n| Jupyter        | Interactive computing environment |\n| RStudio        | Integrated development environment for R |\n| Apache Hadoop  | Framework for distributed storage and processing of big data |\n| TensorFlow     | Open-source machine learning library |\n| Apache Spark   | Unified analytics engine for big data processing |\n",
      "metadata": {}
    },
    {
      "cell_type": "markdown",
      "source": "## Arithmetic Expression Examples\nIn the following cells, we will demonstrate basic arithmetic operations like addition, subtraction, multiplication, and division.\n",
      "metadata": {}
    },
    {
      "cell_type": "code",
      "source": "# Multiplying and adding numbers\na = 5\nb = 3\nresult = a * b + b\nresult\n",
      "metadata": {
        "trusted": true
      },
      "outputs": [],
      "execution_count": null
    },
    {
      "cell_type": "code",
      "source": "# Converting minutes to hours\nminutes = 120\nhours = minutes / 60\nhours\n",
      "metadata": {
        "trusted": true
      },
      "outputs": [],
      "execution_count": null
    },
    {
      "cell_type": "markdown",
      "source": "## Objectives\n- Learn about popular data science languages\n- Understand commonly used data science libraries\n- Explore various data science tools\n- Perform basic arithmetic operations in Python\n",
      "metadata": {}
    },
    {
      "cell_type": "markdown",
      "source": "## Author\nAkash kr Ojha\n",
      "metadata": {}
    },
    {
      "cell_type": "code",
      "source": "",
      "metadata": {
        "trusted": true
      },
      "outputs": [],
      "execution_count": null
    },
    {
      "cell_type": "code",
      "source": "",
      "metadata": {
        "trusted": true
      },
      "outputs": [],
      "execution_count": null
    }
  ]
}